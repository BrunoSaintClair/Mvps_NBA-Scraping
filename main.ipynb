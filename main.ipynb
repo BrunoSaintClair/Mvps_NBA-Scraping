{
 "cells": [
  {
   "cell_type": "markdown",
   "metadata": {},
   "source": [
    "Importação das bibliotecas necessárias:"
   ]
  },
  {
   "cell_type": "code",
   "execution_count": null,
   "metadata": {},
   "outputs": [],
   "source": [
    "import matplotlib.pyplot as plt\n",
    "from bs4 import BeautifulSoup\n",
    "import pandas as pd\n",
    "import requests\n",
    "import re"
   ]
  },
  {
   "cell_type": "markdown",
   "metadata": {},
   "source": [
    "Web Scraping:\n"
   ]
  },
  {
   "cell_type": "markdown",
   "metadata": {},
   "source": [
    "Utilizando as libs Requests e BeautifulSoup para obter acesso ao site desejado, e pegar o código HTML onde os dados que eu quero extrair estão inseridos."
   ]
  },
  {
   "cell_type": "code",
   "execution_count": null,
   "metadata": {},
   "outputs": [],
   "source": [
    "url = 'https://www.nba.com/news/history-mvp-award-winners'\n",
    "\n",
    "site = requests.get(url)\n",
    "\n",
    "soup = BeautifulSoup(site.text, 'html.parser')\n",
    "\n",
    "texto = soup.find_all('p')\n",
    "    \n",
    "conteudo = texto[4:72] # passando o slice para retirar coisas indesejadas que possam atrapalhar nas próximas etapas."
   ]
  },
  {
   "cell_type": "markdown",
   "metadata": {},
   "source": [
    "Extração dos dados desejados:\n"
   ]
  },
  {
   "cell_type": "markdown",
   "metadata": {},
   "source": [
    "Utilizando de RegEx para encontrar os padrões da temporada onde os jogadores foram MVP's, seus nomes, e nome dos times em que eles jogavam nessa respectiva temporada."
   ]
  },
  {
   "cell_type": "code",
   "execution_count": null,
   "metadata": {},
   "outputs": [],
   "source": [
    "lista_mvps = []\n",
    "temporadas = []  # listas onde serão armazenados os dados.\n",
    "times = []\n",
    "\n",
    "\n",
    "padrao_nome_jogador = re.compile(r\"[A-Z].*,\") \n",
    "padrao_temporada = re.compile(r\"[0-9]{4}-[0-9]{2}\")  # criação dos padrões de RegEx.\n",
    "padrao_times = re.compile(r\"(?<=, ).*([A-Z]+|\\d+)[a-z]+.*\") \n",
    "\n",
    "\n",
    "for linha in conteudo:  # extração do conteudo desejado.\n",
    "    nome_jogador = re.search(padrao_nome_jogador, linha.text)\n",
    "    lista_mvps.append(nome_jogador.group()[:-1])\n",
    "\n",
    "    temporada = re.search(padrao_temporada, linha.text)\n",
    "    temporadas.append(temporada.group())\n",
    "\n",
    "    time = re.search(padrao_times, linha.text)\n",
    "        \n",
    "    if '(Voting)' in time.group():\n",
    "        time = time.group().replace(' (Voting)', '')\n",
    "        times.append(time)\n",
    "    else:\n",
    "        times.append(time.group())\n"
   ]
  },
  {
   "cell_type": "markdown",
   "metadata": {},
   "source": [
    "Transformando em um DataFrame:"
   ]
  },
  {
   "cell_type": "code",
   "execution_count": null,
   "metadata": {},
   "outputs": [],
   "source": [
    "dados = {\n",
    "    \"Temporada\": temporadas,\n",
    "    \"Jogador\": lista_mvps,\n",
    "    \"Time\": times\n",
    "}\n",
    "\n",
    "dados_df = pd.DataFrame(dados)\n",
    "dados_df.head()\n"
   ]
  },
  {
   "cell_type": "markdown",
   "metadata": {},
   "source": [
    "Apresentando graficamente:"
   ]
  },
  {
   "cell_type": "code",
   "execution_count": null,
   "metadata": {},
   "outputs": [],
   "source": [
    "cores = ['green', 'yellow', 'blue', 'red', 'green']\n",
    "\n",
    "top5_times = dados_df['Time'].value_counts().head()\n",
    "\n",
    "grafico_times = top5_times.plot.bar(width=0.7, color=cores)\n",
    "grafico_times.set_title(\"Times com mais jogadores eleitos MVP\")\n",
    "grafico_times.set_ylabel(\"Quantidade\")\n",
    "\n",
    "plt.grid(grafico_times, axis='y')\n",
    "plt.show(grafico_times)\n"
   ]
  },
  {
   "cell_type": "code",
   "execution_count": null,
   "metadata": {},
   "outputs": [],
   "source": [
    "top5_mvps = dados_df['Jogador'].value_counts().head()\n",
    "\n",
    "grafico_jogadores = top5_mvps.plot.bar(width=0.7, color='r')\n",
    "grafico_jogadores.set_title(\"Jogadores com mais prêmios de MVP\")\n",
    "grafico_jogadores.set_ylabel(\"Quantidade\")\n",
    "\n",
    "plt.show(grafico_jogadores)\n"
   ]
  }
 ],
 "metadata": {
  "kernelspec": {
   "display_name": "Python 3",
   "language": "python",
   "name": "python3"
  },
  "language_info": {
   "codemirror_mode": {
    "name": "ipython",
    "version": 3
   },
   "file_extension": ".py",
   "mimetype": "text/x-python",
   "name": "python",
   "nbconvert_exporter": "python",
   "pygments_lexer": "ipython3",
   "version": "3.12.0"
  }
 },
 "nbformat": 4,
 "nbformat_minor": 2
}
